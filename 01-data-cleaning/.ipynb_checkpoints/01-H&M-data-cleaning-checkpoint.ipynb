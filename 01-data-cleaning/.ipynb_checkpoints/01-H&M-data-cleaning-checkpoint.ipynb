{
 "cells": [
  {
   "cell_type": "code",
   "execution_count": 2,
   "id": "fbdd99e2",
   "metadata": {},
   "outputs": [],
   "source": [
    "import requests as req\n",
    "\n",
    "import pandas as pd\n",
    "pd.set_option('display.max_columns', None)\n",
    "pd.set_option('display.max_rows', None)\n",
    "\n",
    "import feedparser\n",
    "\n",
    "from selenium import webdriver\n",
    "\n",
    "from webdriver_manager.chrome import ChromeDriverManager\n",
    "\n",
    "from selenium.webdriver.common.by import By\n",
    "\n",
    "import time\n",
    "\n",
    "import random\n",
    "\n",
    "import warnings\n",
    "warnings.filterwarnings('ignore')"
   ]
  },
  {
   "cell_type": "markdown",
   "id": "4899221a",
   "metadata": {},
   "source": [
    "He importado esta base de datos desde Kaggle. Habiendo analizado previamente las otras dos fuentes con las que se completará la base de datos, he mantenido aquellas columnas cuya información pudiera obtener igualmente de las otras fuentes. Además, he decidido mantener unicamente los artículos femeninos (ya veremos cómo justificamos esto)."
   ]
  },
  {
   "cell_type": "code",
   "execution_count": 4,
   "id": "116ced72",
   "metadata": {},
   "outputs": [],
   "source": [
    "hm_original = pd.read_csv('../csv/hm_articles.csv')"
   ]
  },
  {
   "cell_type": "code",
   "execution_count": 5,
   "id": "b07527d8",
   "metadata": {},
   "outputs": [],
   "source": [
    "hm = hm_original.copy()"
   ]
  },
  {
   "cell_type": "code",
   "execution_count": 6,
   "id": "75ea9547",
   "metadata": {},
   "outputs": [],
   "source": [
    "hm.insert(0, 'brand_name', 'H&M')"
   ]
  },
  {
   "cell_type": "code",
   "execution_count": 7,
   "id": "9a18ad94",
   "metadata": {},
   "outputs": [
    {
     "data": {
      "text/plain": [
       "detail_desc    416\n",
       "dtype: int64"
      ]
     },
     "execution_count": 7,
     "metadata": {},
     "output_type": "execute_result"
    }
   ],
   "source": [
    "nan_cols = hm.isna().sum()\n",
    "\n",
    "nan_cols[nan_cols>0]"
   ]
  },
  {
   "cell_type": "code",
   "execution_count": 8,
   "id": "1625aa1d",
   "metadata": {},
   "outputs": [
    {
     "data": {
      "text/plain": [
       "Ladieswear                        26001\n",
       "Divided                           15149\n",
       "Menswear                          12553\n",
       "Children Sizes 92-140             12007\n",
       "Children Sizes 134-170             9214\n",
       "Baby Sizes 50-98                   8875\n",
       "Ladies Accessories                 6961\n",
       "Lingeries/Tights                   6775\n",
       "Children Accessories, Swimwear     4615\n",
       "Sport                              3392\n",
       "Name: index_name, dtype: int64"
      ]
     },
     "execution_count": 8,
     "metadata": {},
     "output_type": "execute_result"
    }
   ],
   "source": [
    "hm.index_name.value_counts()"
   ]
  },
  {
   "cell_type": "code",
   "execution_count": 9,
   "id": "c454339f",
   "metadata": {},
   "outputs": [],
   "source": [
    "hm.drop(hm[hm.index_name != 'Ladieswear'].index, axis = 0, inplace = True)"
   ]
  },
  {
   "cell_type": "code",
   "execution_count": 10,
   "id": "88b38fca",
   "metadata": {},
   "outputs": [],
   "source": [
    "hm.rename(columns = {'colour_group_name': 'color', 'index_name':'section', 'product_type_name':'product_type'}, inplace = True)"
   ]
  },
  {
   "cell_type": "code",
   "execution_count": 11,
   "id": "31cdf420",
   "metadata": {},
   "outputs": [],
   "source": [
    "hm.section.replace('Ladieswear', 'Mujer', inplace = True)"
   ]
  },
  {
   "cell_type": "code",
   "execution_count": 12,
   "id": "1bae24a3",
   "metadata": {},
   "outputs": [],
   "source": [
    "hm = hm.drop(columns = ['product_code','product_type_no', 'graphical_appearance_no','graphical_appearance_name',\n",
    "                        'perceived_colour_value_id', 'perceived_colour_value_name', 'index_group_no', 'section_name',\n",
    "                        'perceived_colour_master_id','perceived_colour_master_name', 'index_code', 'index_group_name', 'colour_group_code',\n",
    "                        'section_no','garment_group_no', 'garment_group_name', 'product_group_name', 'department_no', 'department_name'])"
   ]
  },
  {
   "cell_type": "code",
   "execution_count": 13,
   "id": "674488fe",
   "metadata": {},
   "outputs": [],
   "source": [
    "hm = hm.fillna('no info')"
   ]
  },
  {
   "cell_type": "code",
   "execution_count": 14,
   "id": "3b95d85a",
   "metadata": {},
   "outputs": [
    {
     "data": {
      "text/plain": [
       "Series([], dtype: int64)"
      ]
     },
     "execution_count": 14,
     "metadata": {},
     "output_type": "execute_result"
    }
   ],
   "source": [
    "nan_cols = hm.isna().sum()\n",
    "\n",
    "nan_cols[nan_cols>0]"
   ]
  },
  {
   "cell_type": "code",
   "execution_count": 15,
   "id": "2ab7c395",
   "metadata": {
    "scrolled": true
   },
   "outputs": [
    {
     "data": {
      "text/html": [
       "<div>\n",
       "<style scoped>\n",
       "    .dataframe tbody tr th:only-of-type {\n",
       "        vertical-align: middle;\n",
       "    }\n",
       "\n",
       "    .dataframe tbody tr th {\n",
       "        vertical-align: top;\n",
       "    }\n",
       "\n",
       "    .dataframe thead th {\n",
       "        text-align: right;\n",
       "    }\n",
       "</style>\n",
       "<table border=\"1\" class=\"dataframe\">\n",
       "  <thead>\n",
       "    <tr style=\"text-align: right;\">\n",
       "      <th></th>\n",
       "      <th>brand_name</th>\n",
       "      <th>article_id</th>\n",
       "      <th>prod_name</th>\n",
       "      <th>product_type</th>\n",
       "      <th>color</th>\n",
       "      <th>section</th>\n",
       "      <th>detail_desc</th>\n",
       "    </tr>\n",
       "  </thead>\n",
       "  <tbody>\n",
       "    <tr>\n",
       "      <th>0</th>\n",
       "      <td>H&amp;M</td>\n",
       "      <td>108775015</td>\n",
       "      <td>Strap top</td>\n",
       "      <td>Vest top</td>\n",
       "      <td>Black</td>\n",
       "      <td>Mujer</td>\n",
       "      <td>Jersey top with narrow shoulder straps.</td>\n",
       "    </tr>\n",
       "    <tr>\n",
       "      <th>1</th>\n",
       "      <td>H&amp;M</td>\n",
       "      <td>108775044</td>\n",
       "      <td>Strap top</td>\n",
       "      <td>Vest top</td>\n",
       "      <td>White</td>\n",
       "      <td>Mujer</td>\n",
       "      <td>Jersey top with narrow shoulder straps.</td>\n",
       "    </tr>\n",
       "    <tr>\n",
       "      <th>2</th>\n",
       "      <td>H&amp;M</td>\n",
       "      <td>108775051</td>\n",
       "      <td>Strap top (1)</td>\n",
       "      <td>Vest top</td>\n",
       "      <td>Off White</td>\n",
       "      <td>Mujer</td>\n",
       "      <td>Jersey top with narrow shoulder straps.</td>\n",
       "    </tr>\n",
       "    <tr>\n",
       "      <th>15</th>\n",
       "      <td>H&amp;M</td>\n",
       "      <td>116379047</td>\n",
       "      <td>Frugan longsleeve</td>\n",
       "      <td>Top</td>\n",
       "      <td>Dark Blue</td>\n",
       "      <td>Mujer</td>\n",
       "      <td>Fitted top in soft stretch jersey with a wide ...</td>\n",
       "    </tr>\n",
       "    <tr>\n",
       "      <th>23</th>\n",
       "      <td>H&amp;M</td>\n",
       "      <td>120129001</td>\n",
       "      <td>Babette long</td>\n",
       "      <td>Leggings/Tights</td>\n",
       "      <td>Black</td>\n",
       "      <td>Mujer</td>\n",
       "      <td>Leggings in soft jersey with a wide panel at t...</td>\n",
       "    </tr>\n",
       "  </tbody>\n",
       "</table>\n",
       "</div>"
      ],
      "text/plain": [
       "   brand_name  article_id          prod_name     product_type      color  \\\n",
       "0         H&M   108775015          Strap top         Vest top      Black   \n",
       "1         H&M   108775044          Strap top         Vest top      White   \n",
       "2         H&M   108775051      Strap top (1)         Vest top  Off White   \n",
       "15        H&M   116379047  Frugan longsleeve              Top  Dark Blue   \n",
       "23        H&M   120129001       Babette long  Leggings/Tights      Black   \n",
       "\n",
       "   section                                        detail_desc  \n",
       "0    Mujer            Jersey top with narrow shoulder straps.  \n",
       "1    Mujer            Jersey top with narrow shoulder straps.  \n",
       "2    Mujer            Jersey top with narrow shoulder straps.  \n",
       "15   Mujer  Fitted top in soft stretch jersey with a wide ...  \n",
       "23   Mujer  Leggings in soft jersey with a wide panel at t...  "
      ]
     },
     "execution_count": 15,
     "metadata": {},
     "output_type": "execute_result"
    }
   ],
   "source": [
    "hm.head()"
   ]
  },
  {
   "cell_type": "code",
   "execution_count": 16,
   "id": "02313b28",
   "metadata": {
    "scrolled": false
   },
   "outputs": [
    {
     "data": {
      "text/html": [
       "<div>\n",
       "<style scoped>\n",
       "    .dataframe tbody tr th:only-of-type {\n",
       "        vertical-align: middle;\n",
       "    }\n",
       "\n",
       "    .dataframe tbody tr th {\n",
       "        vertical-align: top;\n",
       "    }\n",
       "\n",
       "    .dataframe thead th {\n",
       "        text-align: right;\n",
       "    }\n",
       "</style>\n",
       "<table border=\"1\" class=\"dataframe\">\n",
       "  <thead>\n",
       "    <tr style=\"text-align: right;\">\n",
       "      <th></th>\n",
       "      <th>brand_name</th>\n",
       "      <th>article_id</th>\n",
       "      <th>prod_name</th>\n",
       "      <th>product_type</th>\n",
       "      <th>color</th>\n",
       "      <th>section</th>\n",
       "      <th>detail_desc</th>\n",
       "    </tr>\n",
       "  </thead>\n",
       "  <tbody>\n",
       "    <tr>\n",
       "      <th>0</th>\n",
       "      <td>H&amp;M</td>\n",
       "      <td>566360008</td>\n",
       "      <td>Chickory (1)</td>\n",
       "      <td>Dress</td>\n",
       "      <td>Dark Blue</td>\n",
       "      <td>Mujer</td>\n",
       "      <td>Knee-length, off-the-shoulder dress in jersey ...</td>\n",
       "    </tr>\n",
       "    <tr>\n",
       "      <th>1</th>\n",
       "      <td>H&amp;M</td>\n",
       "      <td>709301001</td>\n",
       "      <td>ED Gisela pearl</td>\n",
       "      <td>Sweater</td>\n",
       "      <td>Grey</td>\n",
       "      <td>Mujer</td>\n",
       "      <td>Jumper in a fine knit with decorative beading ...</td>\n",
       "    </tr>\n",
       "    <tr>\n",
       "      <th>2</th>\n",
       "      <td>H&amp;M</td>\n",
       "      <td>536524001</td>\n",
       "      <td>Temple</td>\n",
       "      <td>Jacket</td>\n",
       "      <td>Black</td>\n",
       "      <td>Mujer</td>\n",
       "      <td>Padded jacket with a stand-up collar, zip with...</td>\n",
       "    </tr>\n",
       "    <tr>\n",
       "      <th>3</th>\n",
       "      <td>H&amp;M</td>\n",
       "      <td>748687002</td>\n",
       "      <td>Ursula knitted top</td>\n",
       "      <td>Vest top</td>\n",
       "      <td>Beige</td>\n",
       "      <td>Mujer</td>\n",
       "      <td>Vest top in rib-knit cotton with buttons down ...</td>\n",
       "    </tr>\n",
       "    <tr>\n",
       "      <th>4</th>\n",
       "      <td>H&amp;M</td>\n",
       "      <td>923134014</td>\n",
       "      <td>Clara jogger</td>\n",
       "      <td>Trousers</td>\n",
       "      <td>Light Grey</td>\n",
       "      <td>Mujer</td>\n",
       "      <td>Joggers in sweatshirt fabric made from a cotto...</td>\n",
       "    </tr>\n",
       "  </tbody>\n",
       "</table>\n",
       "</div>"
      ],
      "text/plain": [
       "  brand_name  article_id           prod_name product_type       color section  \\\n",
       "0        H&M   566360008        Chickory (1)        Dress   Dark Blue   Mujer   \n",
       "1        H&M   709301001     ED Gisela pearl      Sweater        Grey   Mujer   \n",
       "2        H&M   536524001              Temple       Jacket       Black   Mujer   \n",
       "3        H&M   748687002  Ursula knitted top     Vest top       Beige   Mujer   \n",
       "4        H&M   923134014        Clara jogger     Trousers  Light Grey   Mujer   \n",
       "\n",
       "                                         detail_desc  \n",
       "0  Knee-length, off-the-shoulder dress in jersey ...  \n",
       "1  Jumper in a fine knit with decorative beading ...  \n",
       "2  Padded jacket with a stand-up collar, zip with...  \n",
       "3  Vest top in rib-knit cotton with buttons down ...  \n",
       "4  Joggers in sweatshirt fabric made from a cotto...  "
      ]
     },
     "execution_count": 16,
     "metadata": {},
     "output_type": "execute_result"
    }
   ],
   "source": [
    "hm2 = hm.sample(n = 200)\n",
    "hm2.reset_index(drop = True).head()"
   ]
  },
  {
   "cell_type": "code",
   "execution_count": 58,
   "id": "3704fdfa",
   "metadata": {},
   "outputs": [],
   "source": [
    "#from translate import Translator"
   ]
  },
  {
   "cell_type": "code",
   "execution_count": 59,
   "id": "12a8acbb",
   "metadata": {},
   "outputs": [],
   "source": [
    "#def translate_df(df, source_language, target_language):\n",
    "#    translator = Translator(to_lang=target_language)\n",
    "#    df_translated = df.applymap(lambda x: translator.translate(x) if isinstance(x, str) else x)\n",
    "#    return df_translated\n"
   ]
  },
  {
   "cell_type": "code",
   "execution_count": 60,
   "id": "9fad0b9e",
   "metadata": {},
   "outputs": [],
   "source": [
    "#hm2 = translate_df(hm2, 'en', 'es')"
   ]
  },
  {
   "cell_type": "code",
   "execution_count": 19,
   "id": "b48522b3",
   "metadata": {},
   "outputs": [],
   "source": [
    "hm2.to_csv('../01-data-cleaning/hm-clean-data.csv', index = False)"
   ]
  },
  {
   "cell_type": "code",
   "execution_count": null,
   "id": "1567b14b",
   "metadata": {},
   "outputs": [],
   "source": []
  }
 ],
 "metadata": {
  "kernelspec": {
   "display_name": "Python 3 (ipykernel)",
   "language": "python",
   "name": "python3"
  },
  "language_info": {
   "codemirror_mode": {
    "name": "ipython",
    "version": 3
   },
   "file_extension": ".py",
   "mimetype": "text/x-python",
   "name": "python",
   "nbconvert_exporter": "python",
   "pygments_lexer": "ipython3",
   "version": "3.9.13"
  }
 },
 "nbformat": 4,
 "nbformat_minor": 5
}
