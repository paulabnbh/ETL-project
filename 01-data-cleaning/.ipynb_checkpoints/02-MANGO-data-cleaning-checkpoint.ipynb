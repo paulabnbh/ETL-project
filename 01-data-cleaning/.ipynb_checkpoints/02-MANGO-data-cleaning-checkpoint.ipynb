{
 "cells": [
  {
   "cell_type": "code",
   "execution_count": 44,
   "id": "ab14b2dd",
   "metadata": {},
   "outputs": [],
   "source": [
    "import requests as req\n",
    "\n",
    "import pandas as pd\n",
    "pd.set_option('display.max_columns', None)\n",
    "pd.set_option('display.max_rows', None)\n",
    "\n",
    "import feedparser\n",
    "\n",
    "from selenium import webdriver\n",
    "\n",
    "from webdriver_manager.chrome import ChromeDriverManager\n",
    "\n",
    "from selenium.webdriver.common.by import By\n",
    "\n",
    "from googletrans import Translator\n",
    "\n",
    "import time\n",
    "\n",
    "import tqdm\n",
    "\n",
    "import warnings\n",
    "warnings.filterwarnings('ignore')"
   ]
  },
  {
   "cell_type": "code",
   "execution_count": 3,
   "id": "8b15c1e9",
   "metadata": {},
   "outputs": [
    {
     "name": "stderr",
     "output_type": "stream",
     "text": [
      "[WDM] - Downloading: 100%|████████████████████████████████████████████████████████| 6.78M/6.78M [00:00<00:00, 7.97MB/s]\n"
     ]
    }
   ],
   "source": [
    "PATH = ChromeDriverManager().install()"
   ]
  },
  {
   "cell_type": "code",
   "execution_count": 45,
   "id": "df4c2156",
   "metadata": {},
   "outputs": [],
   "source": [
    "driver = webdriver.Chrome(PATH)"
   ]
  },
  {
   "cell_type": "code",
   "execution_count": 47,
   "id": "c732d40e",
   "metadata": {},
   "outputs": [],
   "source": [
    "mango = 'https://shop.mango.com/es/mujer/destacados/nuevo_d18713172'\n",
    "\n",
    "driver.get(mango)"
   ]
  },
  {
   "cell_type": "code",
   "execution_count": 48,
   "id": "3bf838c7",
   "metadata": {},
   "outputs": [],
   "source": [
    "#aceptar coockies\n",
    "time.sleep(2)\n",
    "driver.find_element(By.XPATH, '//*[@id=\"onetrust-accept-btn-handler\"]').click()"
   ]
  },
  {
   "cell_type": "code",
   "execution_count": 49,
   "id": "65229639",
   "metadata": {},
   "outputs": [],
   "source": [
    "time.sleep(5)\n",
    "\n",
    "driver.find_element(By.CLASS_NAME, 'ZXN_y').click()"
   ]
  },
  {
   "cell_type": "code",
   "execution_count": 50,
   "id": "517d65e2",
   "metadata": {},
   "outputs": [],
   "source": [
    "product_name = []\n",
    "article_id = []\n",
    "colour = []\n",
    "section = []\n",
    "product_type = []\n",
    "detail_desc = []\n",
    "\n",
    "while 1:\n",
    "        \n",
    "    time.sleep(1)\n",
    "    \n",
    "    art = driver.find_element(By.CLASS_NAME, 'product-reference').text\n",
    "    \n",
    "    if art not in article_id:\n",
    "        \n",
    "        article_id.append(art)\n",
    "        \n",
    "        product_name.append(driver.find_element(By.CLASS_NAME, 'product-name').text)\n",
    "        \n",
    "        colour.append(driver.find_element(By.CLASS_NAME, 'colors-info-name').text)\n",
    "        \n",
    "        section.append(driver.find_element(By.CLASS_NAME, 'breadcrumbs-link').text)\n",
    "        \n",
    "        detail_desc.append(driver.find_element(By.CLASS_NAME, 'product-info-text').text)\n",
    "            \n",
    "        product_type.append(driver.find_element(By.XPATH,\n",
    "                                                '//*[@id=\"productDesktop\"]/main/div/div[4]/div/div[1]/ol/li[1]/a/span').find_element(By.XPATH,\n",
    "                                                '//*[@id=\"productDesktop\"]/main/div/div[4]/div/div[1]/ol/li[2]/a/span').text)\n",
    "        \n",
    "        driver.find_element(By.CLASS_NAME, 'nav-product-link.nav-product-next').click()\n",
    "    \n",
    "    else:\n",
    "        try:\n",
    "            driver.find_element(By.CLASS_NAME, 'nav-product-link.nav-product-next').click()\n",
    "        except:\n",
    "            break"
   ]
  },
  {
   "cell_type": "code",
   "execution_count": 51,
   "id": "7f385cb6",
   "metadata": {},
   "outputs": [],
   "source": [
    "mango = pd.DataFrame({'brand_name': 'Mango',\n",
    "                     'article_id': article_id,\n",
    "                      'prod_name' : product_name,\n",
    "                      'product_type_name': product_type,\n",
    "                      'color': colour,\n",
    "                      'section': section,\n",
    "                      'detail_desc':detail_desc})"
   ]
  },
  {
   "cell_type": "code",
   "execution_count": 52,
   "id": "84ea95ed",
   "metadata": {
    "scrolled": true
   },
   "outputs": [
    {
     "data": {
      "text/html": [
       "<div>\n",
       "<style scoped>\n",
       "    .dataframe tbody tr th:only-of-type {\n",
       "        vertical-align: middle;\n",
       "    }\n",
       "\n",
       "    .dataframe tbody tr th {\n",
       "        vertical-align: top;\n",
       "    }\n",
       "\n",
       "    .dataframe thead th {\n",
       "        text-align: right;\n",
       "    }\n",
       "</style>\n",
       "<table border=\"1\" class=\"dataframe\">\n",
       "  <thead>\n",
       "    <tr style=\"text-align: right;\">\n",
       "      <th></th>\n",
       "      <th>brand_name</th>\n",
       "      <th>article_id</th>\n",
       "      <th>prod_name</th>\n",
       "      <th>product_type_name</th>\n",
       "      <th>color</th>\n",
       "      <th>section</th>\n",
       "      <th>detail_desc</th>\n",
       "    </tr>\n",
       "  </thead>\n",
       "  <tbody>\n",
       "    <tr>\n",
       "      <th>0</th>\n",
       "      <td>Mango</td>\n",
       "      <td>REF. 47074041-FRANCA-LM</td>\n",
       "      <td>Falda lápiz lana</td>\n",
       "      <td>Faldas</td>\n",
       "      <td>Negro</td>\n",
       "      <td>Mujer</td>\n",
       "      <td>Colección Selection. Tejido mezcla de lana. Es...</td>\n",
       "    </tr>\n",
       "    <tr>\n",
       "      <th>1</th>\n",
       "      <td>Mango</td>\n",
       "      <td>REF. 47084037-MARINA-LM</td>\n",
       "      <td>Americana piel efecto desgastado</td>\n",
       "      <td>Chaquetas y americanas</td>\n",
       "      <td>Marrón</td>\n",
       "      <td>Mujer</td>\n",
       "      <td>Colección Selection. 100% piel ovino. Diseño r...</td>\n",
       "    </tr>\n",
       "    <tr>\n",
       "      <th>2</th>\n",
       "      <td>Mango</td>\n",
       "      <td>REF. 47094037-MARINA-LM</td>\n",
       "      <td>Falda midi piel tablas</td>\n",
       "      <td>Faldas</td>\n",
       "      <td>Marrón</td>\n",
       "      <td>Mujer</td>\n",
       "      <td>Colección Selection. 100% piel ovino. Diseño m...</td>\n",
       "    </tr>\n",
       "    <tr>\n",
       "      <th>3</th>\n",
       "      <td>Mango</td>\n",
       "      <td>REF. 47054427-SURI-LM</td>\n",
       "      <td>Pack 3 anillos combinados</td>\n",
       "      <td>Bisutería</td>\n",
       "      <td>Plata</td>\n",
       "      <td>Mujer</td>\n",
       "      <td>Colección Selection. Pack de 3. Colores combin...</td>\n",
       "    </tr>\n",
       "    <tr>\n",
       "      <th>4</th>\n",
       "      <td>Mango</td>\n",
       "      <td>REF. 47044042-ROSE-LM</td>\n",
       "      <td>Americana traje costuras</td>\n",
       "      <td>Chaquetas y americanas</td>\n",
       "      <td>Rosa palo</td>\n",
       "      <td>Mujer</td>\n",
       "      <td>Colección Selection. Tejido mezcla de lana. Es...</td>\n",
       "    </tr>\n",
       "  </tbody>\n",
       "</table>\n",
       "</div>"
      ],
      "text/plain": [
       "  brand_name               article_id                         prod_name  \\\n",
       "0      Mango  REF. 47074041-FRANCA-LM                  Falda lápiz lana   \n",
       "1      Mango  REF. 47084037-MARINA-LM  Americana piel efecto desgastado   \n",
       "2      Mango  REF. 47094037-MARINA-LM            Falda midi piel tablas   \n",
       "3      Mango    REF. 47054427-SURI-LM         Pack 3 anillos combinados   \n",
       "4      Mango    REF. 47044042-ROSE-LM          Americana traje costuras   \n",
       "\n",
       "        product_type_name      color section  \\\n",
       "0                  Faldas      Negro   Mujer   \n",
       "1  Chaquetas y americanas     Marrón   Mujer   \n",
       "2                  Faldas     Marrón   Mujer   \n",
       "3               Bisutería      Plata   Mujer   \n",
       "4  Chaquetas y americanas  Rosa palo   Mujer   \n",
       "\n",
       "                                         detail_desc  \n",
       "0  Colección Selection. Tejido mezcla de lana. Es...  \n",
       "1  Colección Selection. 100% piel ovino. Diseño r...  \n",
       "2  Colección Selection. 100% piel ovino. Diseño m...  \n",
       "3  Colección Selection. Pack de 3. Colores combin...  \n",
       "4  Colección Selection. Tejido mezcla de lana. Es...  "
      ]
     },
     "execution_count": 52,
     "metadata": {},
     "output_type": "execute_result"
    }
   ],
   "source": [
    "mango.head()"
   ]
  },
  {
   "cell_type": "code",
   "execution_count": 53,
   "id": "c22b9c47",
   "metadata": {},
   "outputs": [],
   "source": [
    "mango.to_csv('../ETL-project/mango-clean-data.csv', index = False)"
   ]
  },
  {
   "cell_type": "code",
   "execution_count": null,
   "id": "9931f1ea",
   "metadata": {},
   "outputs": [],
   "source": []
  },
  {
   "cell_type": "code",
   "execution_count": null,
   "id": "1f9c4706",
   "metadata": {},
   "outputs": [],
   "source": []
  },
  {
   "cell_type": "code",
   "execution_count": null,
   "id": "c34175cd",
   "metadata": {},
   "outputs": [],
   "source": []
  }
 ],
 "metadata": {
  "kernelspec": {
   "display_name": "Python 3 (ipykernel)",
   "language": "python",
   "name": "python3"
  },
  "language_info": {
   "codemirror_mode": {
    "name": "ipython",
    "version": 3
   },
   "file_extension": ".py",
   "mimetype": "text/x-python",
   "name": "python",
   "nbconvert_exporter": "python",
   "pygments_lexer": "ipython3",
   "version": "3.9.13"
  }
 },
 "nbformat": 4,
 "nbformat_minor": 5
}
