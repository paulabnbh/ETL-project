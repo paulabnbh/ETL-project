{
 "cells": [
  {
   "cell_type": "code",
   "execution_count": 1,
   "id": "fbdd99e2",
   "metadata": {},
   "outputs": [],
   "source": [
    "import requests as req\n",
    "\n",
    "import pandas as pd\n",
    "pd.set_option('display.max_columns', None)\n",
    "pd.set_option('display.max_rows', None)\n",
    "\n",
    "import feedparser\n",
    "\n",
    "from selenium import webdriver\n",
    "\n",
    "from webdriver_manager.chrome import ChromeDriverManager\n",
    "\n",
    "from selenium.webdriver.common.by import By\n",
    "\n",
    "import time\n",
    "\n",
    "import random\n",
    "\n",
    "import warnings\n",
    "warnings.filterwarnings('ignore')"
   ]
  },
  {
   "cell_type": "markdown",
   "id": "4899221a",
   "metadata": {},
   "source": [
    "He importado esta base de datos desde Kaggle. Habiendo analizado previamente las otras dos fuentes con las que se completará la base de datos, he mantenido aquellas columnas cuya información pudiera obtener igualmente de las otras fuentes. Además, he decidido mantener unicamente los artículos femeninos (ya veremos cómo justificamos esto)."
   ]
  },
  {
   "cell_type": "code",
   "execution_count": 2,
   "id": "116ced72",
   "metadata": {},
   "outputs": [],
   "source": [
    "hm_original = pd.read_csv('../ETL-project/csv/hm_articles.csv')"
   ]
  },
  {
   "cell_type": "code",
   "execution_count": 3,
   "id": "b07527d8",
   "metadata": {},
   "outputs": [],
   "source": [
    "hm = hm_original.copy()"
   ]
  },
  {
   "cell_type": "code",
   "execution_count": 4,
   "id": "75ea9547",
   "metadata": {},
   "outputs": [],
   "source": [
    "hm.insert(0, 'brand_name', 'H&M')"
   ]
  },
  {
   "cell_type": "code",
   "execution_count": 5,
   "id": "9a18ad94",
   "metadata": {},
   "outputs": [
    {
     "data": {
      "text/plain": [
       "detail_desc    416\n",
       "dtype: int64"
      ]
     },
     "execution_count": 5,
     "metadata": {},
     "output_type": "execute_result"
    }
   ],
   "source": [
    "nan_cols = hm.isna().sum()\n",
    "\n",
    "nan_cols[nan_cols>0]"
   ]
  },
  {
   "cell_type": "code",
   "execution_count": 6,
   "id": "1625aa1d",
   "metadata": {},
   "outputs": [
    {
     "data": {
      "text/plain": [
       "Ladieswear                        26001\n",
       "Divided                           15149\n",
       "Menswear                          12553\n",
       "Children Sizes 92-140             12007\n",
       "Children Sizes 134-170             9214\n",
       "Baby Sizes 50-98                   8875\n",
       "Ladies Accessories                 6961\n",
       "Lingeries/Tights                   6775\n",
       "Children Accessories, Swimwear     4615\n",
       "Sport                              3392\n",
       "Name: index_name, dtype: int64"
      ]
     },
     "execution_count": 6,
     "metadata": {},
     "output_type": "execute_result"
    }
   ],
   "source": [
    "hm.index_name.value_counts()"
   ]
  },
  {
   "cell_type": "code",
   "execution_count": 7,
   "id": "c454339f",
   "metadata": {},
   "outputs": [],
   "source": [
    "hm.drop(hm[hm.index_name != 'Ladieswear'].index, axis = 0, inplace = True)"
   ]
  },
  {
   "cell_type": "code",
   "execution_count": 8,
   "id": "e5230bf2",
   "metadata": {},
   "outputs": [],
   "source": [
    "colors = hm[['colour_group_code', 'colour_group_name']]"
   ]
  },
  {
   "cell_type": "code",
   "execution_count": 9,
   "id": "456f7f01",
   "metadata": {},
   "outputs": [],
   "source": [
    "colors = colors.drop_duplicates()"
   ]
  },
  {
   "cell_type": "code",
   "execution_count": 10,
   "id": "c7fd694d",
   "metadata": {},
   "outputs": [],
   "source": [
    "colors = colors.sort_values(by = 'colour_group_code')"
   ]
  },
  {
   "cell_type": "code",
   "execution_count": 11,
   "id": "37fd2221",
   "metadata": {
    "scrolled": true
   },
   "outputs": [
    {
     "data": {
      "text/html": [
       "<div>\n",
       "<style scoped>\n",
       "    .dataframe tbody tr th:only-of-type {\n",
       "        vertical-align: middle;\n",
       "    }\n",
       "\n",
       "    .dataframe tbody tr th {\n",
       "        vertical-align: top;\n",
       "    }\n",
       "\n",
       "    .dataframe thead th {\n",
       "        text-align: right;\n",
       "    }\n",
       "</style>\n",
       "<table border=\"1\" class=\"dataframe\">\n",
       "  <thead>\n",
       "    <tr style=\"text-align: right;\">\n",
       "      <th></th>\n",
       "      <th>colour_group_code</th>\n",
       "      <th>colour_group_name</th>\n",
       "    </tr>\n",
       "  </thead>\n",
       "  <tbody>\n",
       "    <tr>\n",
       "      <th>0</th>\n",
       "      <td>-1</td>\n",
       "      <td>Unknown</td>\n",
       "    </tr>\n",
       "    <tr>\n",
       "      <th>1</th>\n",
       "      <td>1</td>\n",
       "      <td>Other</td>\n",
       "    </tr>\n",
       "    <tr>\n",
       "      <th>2</th>\n",
       "      <td>2</td>\n",
       "      <td>Transparent</td>\n",
       "    </tr>\n",
       "    <tr>\n",
       "      <th>3</th>\n",
       "      <td>3</td>\n",
       "      <td>Silver</td>\n",
       "    </tr>\n",
       "    <tr>\n",
       "      <th>4</th>\n",
       "      <td>4</td>\n",
       "      <td>Bronze/Copper</td>\n",
       "    </tr>\n",
       "  </tbody>\n",
       "</table>\n",
       "</div>"
      ],
      "text/plain": [
       "   colour_group_code colour_group_name\n",
       "0                 -1           Unknown\n",
       "1                  1             Other\n",
       "2                  2       Transparent\n",
       "3                  3            Silver\n",
       "4                  4     Bronze/Copper"
      ]
     },
     "execution_count": 11,
     "metadata": {},
     "output_type": "execute_result"
    }
   ],
   "source": [
    "colors.reset_index(drop = True).head()"
   ]
  },
  {
   "cell_type": "code",
   "execution_count": 12,
   "id": "88b38fca",
   "metadata": {},
   "outputs": [],
   "source": [
    "colors.rename(columns = {'colour_group_code':'colour_id', 'colour_group_name': 'colour_name'}, inplace = True)"
   ]
  },
  {
   "cell_type": "code",
   "execution_count": 13,
   "id": "31cdf420",
   "metadata": {},
   "outputs": [],
   "source": [
    "hm.index_name.replace('Ladieswear', 'Woman', inplace = True)"
   ]
  },
  {
   "cell_type": "code",
   "execution_count": 14,
   "id": "094bb917",
   "metadata": {},
   "outputs": [],
   "source": [
    "section = hm[['index_group_no', 'index_name']]"
   ]
  },
  {
   "cell_type": "code",
   "execution_count": 15,
   "id": "60e442a1",
   "metadata": {},
   "outputs": [],
   "source": [
    "section = section.drop_duplicates()"
   ]
  },
  {
   "cell_type": "code",
   "execution_count": 16,
   "id": "23416150",
   "metadata": {},
   "outputs": [],
   "source": [
    "section.rename(columns = {'index_group_no':'section_id','index_name':'section_name'}, inplace = True)"
   ]
  },
  {
   "cell_type": "code",
   "execution_count": 17,
   "id": "cc8f9af4",
   "metadata": {},
   "outputs": [],
   "source": [
    "hm.rename(columns = {'index_group_no':'section_id', 'colour_group_code':'colour_id'}, inplace = True)"
   ]
  },
  {
   "cell_type": "code",
   "execution_count": 18,
   "id": "1bae24a3",
   "metadata": {},
   "outputs": [],
   "source": [
    "hm = hm.drop(['product_type_no', 'graphical_appearance_no','graphical_appearance_name', 'colour_group_name',\n",
    "              'perceived_colour_value_id', 'perceived_colour_value_name', 'perceived_colour_master_id',\n",
    "             'perceived_colour_master_name', 'index_code', 'index_group_name', 'section_no', 'section_name',\n",
    "              'garment_group_no', 'garment_group_name', 'product_group_name', 'department_no', 'index_name', 'product_code', 'department_name'], axis = 1)"
   ]
  },
  {
   "cell_type": "code",
   "execution_count": 19,
   "id": "674488fe",
   "metadata": {},
   "outputs": [],
   "source": [
    "hm = hm.fillna('no info')"
   ]
  },
  {
   "cell_type": "code",
   "execution_count": 20,
   "id": "3b95d85a",
   "metadata": {},
   "outputs": [
    {
     "data": {
      "text/plain": [
       "Series([], dtype: int64)"
      ]
     },
     "execution_count": 20,
     "metadata": {},
     "output_type": "execute_result"
    }
   ],
   "source": [
    "nan_cols = hm.isna().sum()\n",
    "\n",
    "nan_cols[nan_cols>0]"
   ]
  },
  {
   "cell_type": "code",
   "execution_count": 21,
   "id": "2ab7c395",
   "metadata": {
    "scrolled": true
   },
   "outputs": [
    {
     "data": {
      "text/html": [
       "<div>\n",
       "<style scoped>\n",
       "    .dataframe tbody tr th:only-of-type {\n",
       "        vertical-align: middle;\n",
       "    }\n",
       "\n",
       "    .dataframe tbody tr th {\n",
       "        vertical-align: top;\n",
       "    }\n",
       "\n",
       "    .dataframe thead th {\n",
       "        text-align: right;\n",
       "    }\n",
       "</style>\n",
       "<table border=\"1\" class=\"dataframe\">\n",
       "  <thead>\n",
       "    <tr style=\"text-align: right;\">\n",
       "      <th></th>\n",
       "      <th>brand_name</th>\n",
       "      <th>article_id</th>\n",
       "      <th>prod_name</th>\n",
       "      <th>product_type_name</th>\n",
       "      <th>colour_id</th>\n",
       "      <th>section_id</th>\n",
       "      <th>detail_desc</th>\n",
       "    </tr>\n",
       "  </thead>\n",
       "  <tbody>\n",
       "    <tr>\n",
       "      <th>0</th>\n",
       "      <td>H&amp;M</td>\n",
       "      <td>108775015</td>\n",
       "      <td>Strap top</td>\n",
       "      <td>Vest top</td>\n",
       "      <td>9</td>\n",
       "      <td>1</td>\n",
       "      <td>Jersey top with narrow shoulder straps.</td>\n",
       "    </tr>\n",
       "    <tr>\n",
       "      <th>1</th>\n",
       "      <td>H&amp;M</td>\n",
       "      <td>108775044</td>\n",
       "      <td>Strap top</td>\n",
       "      <td>Vest top</td>\n",
       "      <td>10</td>\n",
       "      <td>1</td>\n",
       "      <td>Jersey top with narrow shoulder straps.</td>\n",
       "    </tr>\n",
       "    <tr>\n",
       "      <th>2</th>\n",
       "      <td>H&amp;M</td>\n",
       "      <td>108775051</td>\n",
       "      <td>Strap top (1)</td>\n",
       "      <td>Vest top</td>\n",
       "      <td>11</td>\n",
       "      <td>1</td>\n",
       "      <td>Jersey top with narrow shoulder straps.</td>\n",
       "    </tr>\n",
       "    <tr>\n",
       "      <th>15</th>\n",
       "      <td>H&amp;M</td>\n",
       "      <td>116379047</td>\n",
       "      <td>Frugan longsleeve</td>\n",
       "      <td>Top</td>\n",
       "      <td>73</td>\n",
       "      <td>1</td>\n",
       "      <td>Fitted top in soft stretch jersey with a wide ...</td>\n",
       "    </tr>\n",
       "    <tr>\n",
       "      <th>23</th>\n",
       "      <td>H&amp;M</td>\n",
       "      <td>120129001</td>\n",
       "      <td>Babette long</td>\n",
       "      <td>Leggings/Tights</td>\n",
       "      <td>9</td>\n",
       "      <td>1</td>\n",
       "      <td>Leggings in soft jersey with a wide panel at t...</td>\n",
       "    </tr>\n",
       "  </tbody>\n",
       "</table>\n",
       "</div>"
      ],
      "text/plain": [
       "   brand_name  article_id          prod_name product_type_name  colour_id  \\\n",
       "0         H&M   108775015          Strap top          Vest top          9   \n",
       "1         H&M   108775044          Strap top          Vest top         10   \n",
       "2         H&M   108775051      Strap top (1)          Vest top         11   \n",
       "15        H&M   116379047  Frugan longsleeve               Top         73   \n",
       "23        H&M   120129001       Babette long   Leggings/Tights          9   \n",
       "\n",
       "    section_id                                        detail_desc  \n",
       "0            1            Jersey top with narrow shoulder straps.  \n",
       "1            1            Jersey top with narrow shoulder straps.  \n",
       "2            1            Jersey top with narrow shoulder straps.  \n",
       "15           1  Fitted top in soft stretch jersey with a wide ...  \n",
       "23           1  Leggings in soft jersey with a wide panel at t...  "
      ]
     },
     "execution_count": 21,
     "metadata": {},
     "output_type": "execute_result"
    }
   ],
   "source": [
    "hm.head()"
   ]
  },
  {
   "cell_type": "code",
   "execution_count": 22,
   "id": "02313b28",
   "metadata": {},
   "outputs": [
    {
     "data": {
      "text/html": [
       "<div>\n",
       "<style scoped>\n",
       "    .dataframe tbody tr th:only-of-type {\n",
       "        vertical-align: middle;\n",
       "    }\n",
       "\n",
       "    .dataframe tbody tr th {\n",
       "        vertical-align: top;\n",
       "    }\n",
       "\n",
       "    .dataframe thead th {\n",
       "        text-align: right;\n",
       "    }\n",
       "</style>\n",
       "<table border=\"1\" class=\"dataframe\">\n",
       "  <thead>\n",
       "    <tr style=\"text-align: right;\">\n",
       "      <th></th>\n",
       "      <th>brand_name</th>\n",
       "      <th>article_id</th>\n",
       "      <th>prod_name</th>\n",
       "      <th>product_type_name</th>\n",
       "      <th>colour_id</th>\n",
       "      <th>section_id</th>\n",
       "      <th>detail_desc</th>\n",
       "    </tr>\n",
       "  </thead>\n",
       "  <tbody>\n",
       "    <tr>\n",
       "      <th>0</th>\n",
       "      <td>H&amp;M</td>\n",
       "      <td>665508002</td>\n",
       "      <td>Boyfriend</td>\n",
       "      <td>Sweater</td>\n",
       "      <td>9</td>\n",
       "      <td>1</td>\n",
       "      <td>Jumper in a soft rib knit containing some wool...</td>\n",
       "    </tr>\n",
       "    <tr>\n",
       "      <th>1</th>\n",
       "      <td>H&amp;M</td>\n",
       "      <td>811279002</td>\n",
       "      <td>Manuelle</td>\n",
       "      <td>Blouse</td>\n",
       "      <td>19</td>\n",
       "      <td>1</td>\n",
       "      <td>Blouse in airy, patterned chiffon with a stand...</td>\n",
       "    </tr>\n",
       "    <tr>\n",
       "      <th>2</th>\n",
       "      <td>H&amp;M</td>\n",
       "      <td>534164018</td>\n",
       "      <td>NT Alva 2-pack</td>\n",
       "      <td>Vest top</td>\n",
       "      <td>51</td>\n",
       "      <td>1</td>\n",
       "      <td>Soft nursing tops in organic cotton jersey wit...</td>\n",
       "    </tr>\n",
       "    <tr>\n",
       "      <th>3</th>\n",
       "      <td>H&amp;M</td>\n",
       "      <td>731643001</td>\n",
       "      <td>NW  Romina LL PJ</td>\n",
       "      <td>Garment Set</td>\n",
       "      <td>51</td>\n",
       "      <td>1</td>\n",
       "      <td>Pyjamas with a shirt and bottoms in satin. Shi...</td>\n",
       "    </tr>\n",
       "    <tr>\n",
       "      <th>4</th>\n",
       "      <td>H&amp;M</td>\n",
       "      <td>611641002</td>\n",
       "      <td>Tax trench</td>\n",
       "      <td>Jacket</td>\n",
       "      <td>13</td>\n",
       "      <td>1</td>\n",
       "      <td>Double-breasted trenchcoat in a wool blend wit...</td>\n",
       "    </tr>\n",
       "  </tbody>\n",
       "</table>\n",
       "</div>"
      ],
      "text/plain": [
       "  brand_name  article_id         prod_name product_type_name  colour_id  \\\n",
       "0        H&M   665508002         Boyfriend           Sweater          9   \n",
       "1        H&M   811279002          Manuelle            Blouse         19   \n",
       "2        H&M   534164018    NT Alva 2-pack          Vest top         51   \n",
       "3        H&M   731643001  NW  Romina LL PJ       Garment Set         51   \n",
       "4        H&M   611641002        Tax trench            Jacket         13   \n",
       "\n",
       "   section_id                                        detail_desc  \n",
       "0           1  Jumper in a soft rib knit containing some wool...  \n",
       "1           1  Blouse in airy, patterned chiffon with a stand...  \n",
       "2           1  Soft nursing tops in organic cotton jersey wit...  \n",
       "3           1  Pyjamas with a shirt and bottoms in satin. Shi...  \n",
       "4           1  Double-breasted trenchcoat in a wool blend wit...  "
      ]
     },
     "execution_count": 22,
     "metadata": {},
     "output_type": "execute_result"
    }
   ],
   "source": [
    "hm2 = hm.sample(n = 2000)\n",
    "hm2.reset_index(drop = True).head()"
   ]
  },
  {
   "cell_type": "code",
   "execution_count": 23,
   "id": "b48522b3",
   "metadata": {},
   "outputs": [],
   "source": [
    "hm2.to_csv('hm-clean-data.csv', index = False)\n",
    "colors.to_csv('colors.csv', index = False)\n",
    "section.to_csv('section.csv', index = False)"
   ]
  }
 ],
 "metadata": {
  "kernelspec": {
   "display_name": "Python 3 (ipykernel)",
   "language": "python",
   "name": "python3"
  },
  "language_info": {
   "codemirror_mode": {
    "name": "ipython",
    "version": 3
   },
   "file_extension": ".py",
   "mimetype": "text/x-python",
   "name": "python",
   "nbconvert_exporter": "python",
   "pygments_lexer": "ipython3",
   "version": "3.9.13"
  }
 },
 "nbformat": 4,
 "nbformat_minor": 5
}
