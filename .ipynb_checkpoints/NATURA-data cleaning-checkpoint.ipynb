{
 "cells": [
  {
   "cell_type": "code",
   "execution_count": 1,
   "id": "d06e92a2",
   "metadata": {},
   "outputs": [],
   "source": [
    "import requests as req\n",
    "\n",
    "import pandas as pd\n",
    "pd.set_option('display.max_columns', None)\n",
    "pd.set_option('display.max_rows', None)\n",
    "\n",
    "import feedparser\n",
    "\n",
    "from selenium import webdriver\n",
    "\n",
    "from webdriver_manager.chrome import ChromeDriverManager\n",
    "\n",
    "from selenium.webdriver.common.by import By\n",
    "\n",
    "from googletrans import Translator\n",
    "\n",
    "import time\n",
    "\n",
    "import tqdm\n",
    "\n",
    "import warnings\n",
    "warnings.filterwarnings('ignore')"
   ]
  },
  {
   "cell_type": "code",
   "execution_count": 144,
   "id": "efd1ed9d",
   "metadata": {},
   "outputs": [
    {
     "name": "stderr",
     "output_type": "stream",
     "text": [
      "[WDM] - Downloading: 100%|████████████████████████████████████████████████████████| 6.78M/6.78M [00:03<00:00, 2.13MB/s]\n"
     ]
    }
   ],
   "source": [
    "PATH = ChromeDriverManager().install()"
   ]
  },
  {
   "cell_type": "code",
   "execution_count": 145,
   "id": "eba4eb24",
   "metadata": {},
   "outputs": [],
   "source": [
    "driver = webdriver.Chrome(PATH)"
   ]
  },
  {
   "cell_type": "code",
   "execution_count": 164,
   "id": "2a6a6a13",
   "metadata": {},
   "outputs": [],
   "source": [
    "driver.get('https://www.naturaselection.com/es/tienda/ropa')"
   ]
  },
  {
   "cell_type": "code",
   "execution_count": 147,
   "id": "23d35485",
   "metadata": {},
   "outputs": [],
   "source": [
    "#aceptar las cookies\n",
    "time.sleep(2)\n",
    "\n",
    "driver.find_element(By.XPATH, '/html/body/section/div/div/div[1]/div[2]/button').click()"
   ]
  },
  {
   "cell_type": "code",
   "execution_count": 165,
   "id": "3d693acc",
   "metadata": {},
   "outputs": [],
   "source": [
    "#nos dirigimos hacia el primer producto\n",
    "time.sleep(2)\n",
    "\n",
    "driver.execute_script(\"window.scrollTo(0, document.body.scrollHeight);\")\n",
    "\n",
    "driver.find_element(By.CLASS_NAME, 'product-card__image.u-image-switch.gtm-eh-track-product-click').click()"
   ]
  },
  {
   "cell_type": "code",
   "execution_count": 166,
   "id": "11412309",
   "metadata": {},
   "outputs": [
    {
     "name": "stdout",
     "output_type": "stream",
     "text": [
      "1\n",
      "2\n",
      "3\n",
      "4\n",
      "5\n",
      "6\n",
      "7\n",
      "8\n",
      "9\n",
      "10\n",
      "11\n",
      "12\n",
      "13\n",
      "14\n",
      "15\n",
      "16\n",
      "17\n",
      "18\n",
      "19\n",
      "20\n",
      "21\n",
      "22\n",
      "23\n",
      "24\n",
      "25\n",
      "26\n",
      "27\n",
      "28\n",
      "29\n",
      "30\n",
      "31\n",
      "32\n",
      "33\n",
      "34\n",
      "35\n",
      "36\n",
      "37\n",
      "38\n",
      "39\n",
      "40\n",
      "41\n",
      "42\n",
      "43\n",
      "44\n",
      "45\n",
      "46\n",
      "47\n",
      "48\n",
      "49\n",
      "50\n"
     ]
    }
   ],
   "source": [
    "product_name = []\n",
    "article_id = []\n",
    "colour = []\n",
    "product_type = []\n",
    "detail_desc = []\n",
    "\n",
    "contador = 0\n",
    "\n",
    "\n",
    "while contador < 50:\n",
    "    \n",
    "    time.sleep(1)\n",
    "    \n",
    "    try:\n",
    "    \n",
    "        art = driver.find_element(By.CLASS_NAME, 'product__reference.u-light-text').text\n",
    "\n",
    "        if art not in article_id:\n",
    "\n",
    "            article_id.append(art)\n",
    "\n",
    "            product_name.append(driver.find_element(By.CLASS_NAME, 'product__title.title2').text)\n",
    "\n",
    "            tmp = []\n",
    "            for e in driver.find_elements(By.CLASS_NAME, 'colors__link.js-product-color'):\n",
    "                    tmp.append(e.get_attribute('data-variant-color'))\n",
    "\n",
    "            colour.append(tmp)\n",
    "\n",
    "            detail_desc.append(driver.find_element(By.CLASS_NAME, 'product__description-top').text.replace('\\n',' '))\n",
    "\n",
    "\n",
    "            tmp2 = []\n",
    "            for e in driver.find_elements(By.CLASS_NAME, 'section'):\n",
    "                tmp2.append(e.text)\n",
    "\n",
    "            product_type.append(tmp2[2])\n",
    "            \n",
    "            contador += 1\n",
    "\n",
    "            driver.find_element(By.CLASS_NAME, 'cn_element_products_2_image').click()\n",
    "            \n",
    "            print(contador)\n",
    "\n",
    "        else:\n",
    "            try:\n",
    "                driver.find_element(By.CLASS_NAME, 'cn_element_products_2_image').click()\n",
    "            \n",
    "            except NoSuchElementFound:\n",
    "                break\n",
    "    \n",
    "    except NoSuchElementException:\n",
    "        driver.find_element(By.CLASS_NAME, 'cn_element_products_2_image').click()\n",
    "    \n",
    "    except Exception as e:\n",
    "        break\n",
    "\n",
    "driver.quit()"
   ]
  },
  {
   "cell_type": "code",
   "execution_count": 175,
   "id": "aaa9d170",
   "metadata": {},
   "outputs": [],
   "source": [
    "natura = pd.DataFrame({'product_name':product_name,\n",
    "                       'article_id':article_id,\n",
    "                       'colour': colour,\n",
    "                       'product_type': product_type,'detail_desc': detail_desc})"
   ]
  },
  {
   "cell_type": "code",
   "execution_count": 183,
   "id": "c3da8e06",
   "metadata": {},
   "outputs": [],
   "source": [
    "natura = natura.explode(\"colour\")"
   ]
  },
  {
   "cell_type": "code",
   "execution_count": 184,
   "id": "608b8e30",
   "metadata": {},
   "outputs": [
    {
     "data": {
      "text/html": [
       "<div>\n",
       "<style scoped>\n",
       "    .dataframe tbody tr th:only-of-type {\n",
       "        vertical-align: middle;\n",
       "    }\n",
       "\n",
       "    .dataframe tbody tr th {\n",
       "        vertical-align: top;\n",
       "    }\n",
       "\n",
       "    .dataframe thead th {\n",
       "        text-align: right;\n",
       "    }\n",
       "</style>\n",
       "<table border=\"1\" class=\"dataframe\">\n",
       "  <thead>\n",
       "    <tr style=\"text-align: right;\">\n",
       "      <th></th>\n",
       "      <th>product_name</th>\n",
       "      <th>article_id</th>\n",
       "      <th>colour</th>\n",
       "      <th>product_type</th>\n",
       "      <th>detail_desc</th>\n",
       "    </tr>\n",
       "  </thead>\n",
       "  <tbody>\n",
       "    <tr>\n",
       "      <th>0</th>\n",
       "      <td>Chaleco tejano</td>\n",
       "      <td>REF 139307</td>\n",
       "      <td>BLUE</td>\n",
       "      <td>Chalecos</td>\n",
       "      <td>Descripción Chaleco tejano sin mangas, con bol...</td>\n",
       "    </tr>\n",
       "    <tr>\n",
       "      <th>1</th>\n",
       "      <td>Pantalón Jane índigo</td>\n",
       "      <td>REF 139308</td>\n",
       "      <td>DARKBLUE</td>\n",
       "      <td>Pantalones</td>\n",
       "      <td>Descripción Pantalón de corte recto confeccion...</td>\n",
       "    </tr>\n",
       "    <tr>\n",
       "      <th>2</th>\n",
       "      <td>Jersey cuello pico rayas</td>\n",
       "      <td>REF 139286</td>\n",
       "      <td>BROWN</td>\n",
       "      <td>Jerséis y cárdigans</td>\n",
       "      <td>Descripción Jersey de punto con diseño de raya...</td>\n",
       "    </tr>\n",
       "    <tr>\n",
       "      <th>3</th>\n",
       "      <td>Bolso pequeño bandolera ante</td>\n",
       "      <td>REF 139941</td>\n",
       "      <td>BLUE</td>\n",
       "      <td>Bolsos y monederos</td>\n",
       "      <td>Descripción Bolso pequeño de ante con asa larg...</td>\n",
       "    </tr>\n",
       "    <tr>\n",
       "      <th>3</th>\n",
       "      <td>Bolso pequeño bandolera ante</td>\n",
       "      <td>REF 139941</td>\n",
       "      <td>CHOCOLATE</td>\n",
       "      <td>Bolsos y monederos</td>\n",
       "      <td>Descripción Bolso pequeño de ante con asa larg...</td>\n",
       "    </tr>\n",
       "  </tbody>\n",
       "</table>\n",
       "</div>"
      ],
      "text/plain": [
       "                   product_name  article_id     colour         product_type  \\\n",
       "0                Chaleco tejano  REF 139307       BLUE             Chalecos   \n",
       "1          Pantalón Jane índigo  REF 139308   DARKBLUE           Pantalones   \n",
       "2      Jersey cuello pico rayas  REF 139286      BROWN  Jerséis y cárdigans   \n",
       "3  Bolso pequeño bandolera ante  REF 139941       BLUE   Bolsos y monederos   \n",
       "3  Bolso pequeño bandolera ante  REF 139941  CHOCOLATE   Bolsos y monederos   \n",
       "\n",
       "                                         detail_desc  \n",
       "0  Descripción Chaleco tejano sin mangas, con bol...  \n",
       "1  Descripción Pantalón de corte recto confeccion...  \n",
       "2  Descripción Jersey de punto con diseño de raya...  \n",
       "3  Descripción Bolso pequeño de ante con asa larg...  \n",
       "3  Descripción Bolso pequeño de ante con asa larg...  "
      ]
     },
     "execution_count": 184,
     "metadata": {},
     "output_type": "execute_result"
    }
   ],
   "source": [
    "natura.head()"
   ]
  },
  {
   "cell_type": "code",
   "execution_count": 185,
   "id": "32ab3eb1",
   "metadata": {},
   "outputs": [],
   "source": []
  },
  {
   "cell_type": "code",
   "execution_count": 187,
   "id": "e9558ddf",
   "metadata": {},
   "outputs": [],
   "source": [
    "natura.insert(0, 'brand_name', 'NATURA')"
   ]
  },
  {
   "cell_type": "code",
   "execution_count": 189,
   "id": "7cceda55",
   "metadata": {},
   "outputs": [],
   "source": [
    "natura = natura.drop(columns = 'section')"
   ]
  },
  {
   "cell_type": "code",
   "execution_count": 191,
   "id": "e565ea2b",
   "metadata": {},
   "outputs": [],
   "source": [
    "natura.insert(5, 'section', 'Mujer')"
   ]
  },
  {
   "cell_type": "code",
   "execution_count": 193,
   "id": "ca1655ee",
   "metadata": {},
   "outputs": [],
   "source": [
    "natura.to_csv('../ETL-project/natura-clean-data.csv', index = False)"
   ]
  },
  {
   "cell_type": "code",
   "execution_count": null,
   "id": "45322cda",
   "metadata": {},
   "outputs": [],
   "source": []
  }
 ],
 "metadata": {
  "kernelspec": {
   "display_name": "Python 3 (ipykernel)",
   "language": "python",
   "name": "python3"
  },
  "language_info": {
   "codemirror_mode": {
    "name": "ipython",
    "version": 3
   },
   "file_extension": ".py",
   "mimetype": "text/x-python",
   "name": "python",
   "nbconvert_exporter": "python",
   "pygments_lexer": "ipython3",
   "version": "3.9.13"
  }
 },
 "nbformat": 4,
 "nbformat_minor": 5
}
